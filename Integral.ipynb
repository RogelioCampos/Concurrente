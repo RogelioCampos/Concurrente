{
  "cells": [
    {
      "metadata": {
        "collapsed": true
      },
      "cell_type": "markdown",
      "source": "# Programa Integral\n**Campos Guevara Rogelio**\n\n**201640376**"
    },
    {
      "metadata": {},
      "cell_type": "markdown",
      "source": "En primer lugar se importan las librerias.\nNumpy se usará para el manejo de los arreglos y sus operaciones de manera sencilla.\nDe la librería math importaremos las funciones arcocoseno, coseno, y el valor de pi. "
    },
    {
      "metadata": {
        "trusted": true
      },
      "cell_type": "code",
      "source": "import numpy\nfrom math import acos, cos, pi\nfrom mpi4py import MPI\ncomm = MPI.COMM_WORLD\nrank = comm.Get_rank()\nsize = comm.Get_size()",
      "execution_count": null,
      "outputs": []
    },
    {
      "metadata": {},
      "cell_type": "markdown",
      "source": "Ahora, definimos el método integral. Dentro de este, se inicializa la variable integ, y se realiza la iteración en el rango n para el cálculo, sumando los resultados a la variable y regresando la misma al fin de la iteración."
    },
    {
      "metadata": {
        "trusted": true
      },
      "cell_type": "code",
      "source": "def integral(a_i, h, n):\n    integ = 0.0\n    for j in range(n):\n        a_ij = a_i + (j + 0.5) * h\n        integ += cos(a_ij) * h\n    return integ",
      "execution_count": null,
      "outputs": []
    },
    {
      "metadata": {},
      "cell_type": "markdown",
      "source": "Ahora, declaramos e inicializamos los valores para a y b. "
    },
    {
      "metadata": {
        "trusted": true
      },
      "cell_type": "code",
      "source": "a = 0.0\nb = pi / 2.0\nmy_int = numpy.zeros(1)\nintegral_sum = numpy.zeros(1)",
      "execution_count": null,
      "outputs": []
    },
    {
      "metadata": {
        "trusted": true
      },
      "cell_type": "markdown",
      "source": "Se inicializa el arreglo con valores dependiendo el núcleo que ingrese. En el caso del núcleo 0, se asigna el valor 100, en caso contrario el valor 0. "
    },
    {
      "metadata": {
        "trusted": true
      },
      "cell_type": "code",
      "source": "if rank == 0:\n    n = numpy.full(1, 100, dtype=int)\nelse:\n    n = numpy.zeros(1, dtype=int)",
      "execution_count": null,
      "outputs": []
    },
    {
      "metadata": {},
      "cell_type": "markdown",
      "source": "Se imprime el valor actual de n, se envia el valor de n en el núcleo 0 a todos los demás procesos y se vuelve a imprimir el valor en cada núcleo. En el caso del núcleo 0, los valores antes y después del broadcast serán 100, mientras que en los demás el valor antes del broadcast será de 0, y de 100 después de este."
    },
    {
      "metadata": {
        "trusted": true
      },
      "cell_type": "code",
      "source": "print(\"Process \", rank, \" before n = \", n[0])\ncomm.Bcast(n, root=0)\nprint(\"Process \", rank, \" after n = \", n[0])",
      "execution_count": null,
      "outputs": []
    },
    {
      "metadata": {},
      "cell_type": "markdown",
      "source": "Se define el valor de las particiones a partir del valor n, el número de núcleos y las variables definidas anteriormente.\nPosteriormente se calcula el valor de a_i, y se hace el llamado a la función integral con los parámetros de cada núcleo."
    },
    {
      "metadata": {
        "trusted": true
      },
      "cell_type": "code",
      "source": "h = (b - a) / (n * size)\na_i = a + rank * h * n\nmy_int[0] = integral(a_i, h, n[0])",
      "execution_count": null,
      "outputs": []
    },
    {
      "metadata": {},
      "cell_type": "markdown",
      "source": "Ahora, el valor de la suma parcial realizada por cada núcleo se encuentra en la variable my_int, por lo que se imprime su valor y se envía a la raíz, sumandose al valor final."
    },
    {
      "metadata": {
        "trusted": true
      },
      "cell_type": "code",
      "source": "print(\"Process \", rank, \" has the partial integral \", my_int[0])\ncomm.Reduce(my_int, integral_sum, MPI.SUM, 0)",
      "execution_count": null,
      "outputs": []
    },
    {
      "metadata": {},
      "cell_type": "markdown",
      "source": "Únicamente el núcleo 0 imprime el valor final de la suma."
    },
    {
      "metadata": {
        "trusted": true
      },
      "cell_type": "code",
      "source": "# Only print the result in process 0\nif rank == 0:\n    print('The Integral Sum =', integral_sum[0])",
      "execution_count": null,
      "outputs": []
    },
    {
      "metadata": {},
      "cell_type": "markdown",
      "source": "El resultado de la ejecución del programa se muestra a continuación:"
    },
    {
      "metadata": {
        "trusted": true
      },
      "cell_type": "code",
      "source": "Process  1  before n =  0\nProcess  1  after n =  100\nProcess  1  has the partial integral  0.2928939716117343\nProcess  0  before n =  100\nProcess  0  after n =  100\nProcess  0  has the partial integral  0.7071085986023695\nThe Integral Sum = 1.0000025702141038",
      "execution_count": null,
      "outputs": []
    }
  ],
  "metadata": {
    "kernelspec": {
      "name": "python36",
      "display_name": "Python 3.6",
      "language": "python"
    },
    "language_info": {
      "mimetype": "text/x-python",
      "nbconvert_exporter": "python",
      "name": "python",
      "pygments_lexer": "ipython3",
      "version": "3.6.6",
      "file_extension": ".py",
      "codemirror_mode": {
        "version": 3,
        "name": "ipython"
      }
    }
  },
  "nbformat": 4,
  "nbformat_minor": 2
}