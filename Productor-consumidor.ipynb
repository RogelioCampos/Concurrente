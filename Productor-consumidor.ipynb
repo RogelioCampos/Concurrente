{
  "cells": [
    {
      "metadata": {
        "collapsed": true
      },
      "cell_type": "markdown",
      "source": "# Programa de Productor-Consumidor\n\n**Campos Guevara Rogelio**\n\n**201640376**"
    },
    {
      "metadata": {
        "trusted": true
      },
      "cell_type": "code",
      "source": "import multiprocessing\nimport random\nimport time",
      "execution_count": 1,
      "outputs": []
    },
    {
      "metadata": {},
      "cell_type": "markdown",
      "source": "En la clase Productor se crean los artículos. En la función run se generan números aleatorios entre 0 y 256, que se irán agregando a la cola. El tiempo de espera entre cada artículo es de un segundo."
    },
    {
      "metadata": {
        "trusted": true
      },
      "cell_type": "code",
      "source": "class Producer(multiprocessing.Process):\n\n    def __init__(self, queue):\n        multiprocessing.Process.__init__(self)\n        self.queue=queue\n\n    def run(self):\n        for _ in range(10):\n            item = random.randint(0,256)\n            self.queue.put(item)\n            print('Process Producer: item %d apped to queue %s' % ( item, self.name))\n            time.sleep(1)\n            print('The size of queue is %s' % self.queue.qsize())",
      "execution_count": 2,
      "outputs": []
    },
    {
      "metadata": {},
      "cell_type": "markdown",
      "source": "La clase consumidor, por su parte, revisa en primer lugar si la cola está vacía; en caso de que no lo esté, procede a sacar los artículos de la cola. El tiempo de espera es de 2 segundos antes de sacar el artículo y un según después de hacerlo."
    },
    {
      "metadata": {
        "trusted": true
      },
      "cell_type": "code",
      "source": "class Consumer(multiprocessing.Process):\n\n    def __init__(self, queue):\n        multiprocessing.Process.__init__(self)\n        self.queue=queue\n\n    def run(self):\n        while True:\n            if self.queue.empty():\n                print('The queue is empty')\n                break\n            else:\n                time.sleep(2)\n                item = self.queue.get()\n                print('Process Consumer: item %d popped from %s\\n' %(item, self.name))\n                time.sleep(1)",
      "execution_count": 3,
      "outputs": []
    },
    {
      "metadata": {},
      "cell_type": "markdown",
      "source": "Por último, se crea la cola a partir de la función Queue de la clase multiprocessing y se inicializan los hilos con esta misma cola compartida."
    },
    {
      "metadata": {
        "trusted": true
      },
      "cell_type": "code",
      "source": "if __name__ =='__main__':\n    queue = multiprocessing.Queue()\n\n    process_producer=Producer(queue)\n    process_consumer=Consumer(queue)\n\n    process_producer.start()\n    process_consumer.start()\n\n    process_producer.join()\n    process_consumer.join()",
      "execution_count": null,
      "outputs": []
    }
  ],
  "metadata": {
    "kernelspec": {
      "name": "python36",
      "display_name": "Python 3.6",
      "language": "python"
    },
    "language_info": {
      "mimetype": "text/x-python",
      "nbconvert_exporter": "python",
      "name": "python",
      "pygments_lexer": "ipython3",
      "version": "3.6.6",
      "file_extension": ".py",
      "codemirror_mode": {
        "version": 3,
        "name": "ipython"
      }
    }
  },
  "nbformat": 4,
  "nbformat_minor": 2
}